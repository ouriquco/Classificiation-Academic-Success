{
  "nbformat": 4,
  "nbformat_minor": 0,
  "metadata": {
    "colab": {
      "provenance": [],
      "collapsed_sections": [
        "X9sO0WoGNxGY",
        "vWPsbDZDOCmG"
      ],
      "authorship_tag": "ABX9TyPOdK2AGcUvpn/zS5UxEh2V",
      "include_colab_link": true
    },
    "kernelspec": {
      "name": "python3",
      "display_name": "Python 3"
    },
    "language_info": {
      "name": "python"
    }
  },
  "cells": [
    {
      "cell_type": "markdown",
      "metadata": {
        "id": "view-in-github",
        "colab_type": "text"
      },
      "source": [
        "<a href=\"https://colab.research.google.com/github/ouriquco/Classificiation-Academic-Success/blob/summer_models/Academic_Success.ipynb\" target=\"_parent\"><img src=\"https://colab.research.google.com/assets/colab-badge.svg\" alt=\"Open In Colab\"/></a>"
      ]
    },
    {
      "cell_type": "markdown",
      "source": [
        "# Importing Libraries"
      ],
      "metadata": {
        "id": "240qmSEUEsLW"
      }
    },
    {
      "cell_type": "code",
      "execution_count": 10,
      "metadata": {
        "id": "0n95NPHSEj1B"
      },
      "outputs": [],
      "source": [
        "import pandas as pd\n",
        "from sklearn.preprocessing import LabelEncoder\n",
        "from sklearn.ensemble import RandomForestClassifier\n",
        "from sklearn.metrics import accuracy_score\n",
        "from sklearn.metrics import confusion_matrix\n",
        "from sklearn.metrics import precision_score\n",
        "from sklearn.metrics import recall_score\n",
        "from sklearn.metrics import f1_score\n",
        "from sklearn.model_selection import cross_val_score\n",
        "from sklearn.preprocessing import LabelEncoder"
      ]
    },
    {
      "cell_type": "markdown",
      "source": [
        "# Reading in Data"
      ],
      "metadata": {
        "id": "1w2cbpTGE1cF"
      }
    },
    {
      "cell_type": "code",
      "source": [
        "train = pd.read_csv('train.csv', index_col = 'id')\n",
        "test = pd.read_csv('test.csv', index_col = 'id')"
      ],
      "metadata": {
        "id": "4nylB6biE4my"
      },
      "execution_count": 3,
      "outputs": []
    },
    {
      "cell_type": "markdown",
      "source": [
        "# Data Preprocessing"
      ],
      "metadata": {
        "id": "_tB6BJBdFGdS"
      }
    },
    {
      "cell_type": "code",
      "source": [
        "#checking for NA\n",
        "train.isnull().sum()\n",
        "test.isnull().sum()\n",
        "\n",
        "#checking for duplicates\n",
        "train.duplicated().sum()\n",
        "test.duplicated().sum()\n",
        "\n",
        "features = test.columns\n",
        "\n",
        "#convert categorical data to numeric\n",
        "if train['Target'].dtype == 'object':\n",
        "    le = LabelEncoder()\n",
        "    train['Target'] = le.fit_transform(train['Target'])\n",
        "\n",
        "#splitting into features and target\n",
        "X_train = train[features]\n",
        "y_train = train['Target']\n",
        "X_test = test[features]"
      ],
      "metadata": {
        "id": "8QfRelgnFF_Y"
      },
      "execution_count": 11,
      "outputs": []
    },
    {
      "cell_type": "markdown",
      "source": [
        "# Data Visualization"
      ],
      "metadata": {
        "id": "X9sO0WoGNxGY"
      }
    },
    {
      "cell_type": "code",
      "source": [],
      "metadata": {
        "id": "mXj2gubON2SO"
      },
      "execution_count": null,
      "outputs": []
    },
    {
      "cell_type": "markdown",
      "source": [
        "# Cross Validation"
      ],
      "metadata": {
        "id": "vWPsbDZDOCmG"
      }
    },
    {
      "cell_type": "code",
      "source": [],
      "metadata": {
        "id": "yGbT7phoOHDB"
      },
      "execution_count": null,
      "outputs": []
    },
    {
      "cell_type": "markdown",
      "source": [
        "# Random Forest"
      ],
      "metadata": {
        "id": "7WXhCLe0FUTl"
      }
    },
    {
      "cell_type": "code",
      "source": [
        "#initialize Random Forest - play with inputs here\n",
        "rf = RandomForestClassifier()\n",
        "\n",
        "# Fit the model on the training data\n",
        "rf.fit(X_train, y_train)\n",
        "\n",
        "# Predict on the test data\n",
        "y_pred = rf.predict(X_test)\n",
        "\n",
        "#Evaluation\n",
        "\n",
        "#Accuracy\n",
        "print(\"Accuracy:\", accuracy_score(y_train, rf.predict(X_train)))\n",
        "\n",
        "#Confusion Matrix\n",
        "print(\"Confusion Matrix:\\n\", confusion_matrix(y_train, rf.predict(X_train)))\n",
        "\n",
        "#Precision\n",
        "print(\"Precision:\", precision_score(y_train, rf.predict(X_train), average = 'macro'))\n",
        "\n",
        "#Recall\n",
        "print(\"Recall:\", recall_score(y_train, rf.predict(X_train), average = 'macro'))\n",
        "\n",
        "#F1 Score\n",
        "print(\"F1 Score:\", f1_score(y_train, rf.predict(X_train), average = 'macro'))\n",
        "\n",
        "#cross validation\n",
        "cv_scores = cross_val_score(rf, X_train, y_train, cv=5)\n",
        "print(\"Cross-Validation Scores:\", cv_scores)\n",
        "print(\"Average Cross-Validation Score:\", cv_scores.mean())\n",
        "\n",
        "#create submission file\n",
        "#convert target back from numbers into \"graduate\", \"dropout\", or \"enrolled\"\n",
        "labels = le.inverse_transform(y_pred)\n",
        "\n",
        "submission = pd.DataFrame({'id': test.index, 'Target': labels})\n",
        "submission.to_csv('submission.csv', index=False)\n"
      ],
      "metadata": {
        "colab": {
          "base_uri": "https://localhost:8080/"
        },
        "id": "WgmDaRZ8FXYF",
        "outputId": "e65a6225-b0d8-40b6-dc44-d22ef976ab14"
      },
      "execution_count": 13,
      "outputs": [
        {
          "output_type": "stream",
          "name": "stdout",
          "text": [
            "Accuracy: 0.9999869311795917\n",
            "Confusion Matrix:\n",
            " [[25296     0     0]\n",
            " [    1 14939     0]\n",
            " [    0     0 36282]]\n",
            "Precision: 0.9999868232069679\n",
            "Recall: 0.9999776885319053\n",
            "F1 Score: 0.9999822553658495\n",
            "Cross-Validation Scores: [0.82631992 0.82462101 0.82697334 0.82735411 0.82068875]\n",
            "Average Cross-Validation Score: 0.8251914276381\n"
          ]
        }
      ]
    },
    {
      "cell_type": "markdown",
      "source": [
        "# AdaBoost"
      ],
      "metadata": {
        "id": "VERQdD7wFXrY"
      }
    },
    {
      "cell_type": "code",
      "source": [],
      "metadata": {
        "id": "5mU9IUXBFeoB"
      },
      "execution_count": null,
      "outputs": []
    },
    {
      "cell_type": "markdown",
      "source": [
        "# Gradient Boosting"
      ],
      "metadata": {
        "id": "13eX6JfTFfE7"
      }
    },
    {
      "cell_type": "code",
      "source": [],
      "metadata": {
        "id": "No7ZWVl0FjcZ"
      },
      "execution_count": null,
      "outputs": []
    },
    {
      "cell_type": "markdown",
      "source": [
        "# XGBoost"
      ],
      "metadata": {
        "id": "0ObA7CfeFjvz"
      }
    },
    {
      "cell_type": "code",
      "source": [],
      "metadata": {
        "id": "egIuWLUNFpTm"
      },
      "execution_count": null,
      "outputs": []
    },
    {
      "cell_type": "markdown",
      "source": [
        "## CatBoost"
      ],
      "metadata": {
        "id": "Gwr77KpyFxxt"
      }
    },
    {
      "cell_type": "code",
      "source": [],
      "metadata": {
        "id": "4CznY408F00O"
      },
      "execution_count": null,
      "outputs": []
    },
    {
      "cell_type": "markdown",
      "source": [
        "# LightGBM"
      ],
      "metadata": {
        "id": "cdqTXGjIF4gW"
      }
    },
    {
      "cell_type": "code",
      "source": [],
      "metadata": {
        "id": "9G6igytiF_oF"
      },
      "execution_count": null,
      "outputs": []
    }
  ]
}