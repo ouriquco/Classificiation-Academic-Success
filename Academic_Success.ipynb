{
  "cells": [
    {
      "cell_type": "markdown",
      "metadata": {
        "id": "view-in-github",
        "colab_type": "text"
      },
      "source": [
        "<a href=\"https://colab.research.google.com/github/ouriquco/Classificiation-Academic-Success/blob/summer_models/Academic_Success.ipynb\" target=\"_parent\"><img src=\"https://colab.research.google.com/assets/colab-badge.svg\" alt=\"Open In Colab\"/></a>"
      ]
    },
    {
      "cell_type": "markdown",
      "metadata": {
        "id": "240qmSEUEsLW"
      },
      "source": [
        "# Importing Libraries"
      ]
    },
    {
      "cell_type": "code",
      "execution_count": 45,
      "metadata": {
        "id": "0n95NPHSEj1B"
      },
      "outputs": [],
      "source": [
        "import pandas as pd\n",
        "from sklearn.preprocessing import LabelEncoder\n",
        "from sklearn.ensemble import RandomForestClassifier\n",
        "from sklearn.metrics import accuracy_score\n",
        "from sklearn.metrics import confusion_matrix\n",
        "from sklearn.metrics import precision_score\n",
        "from sklearn.metrics import recall_score\n",
        "from sklearn.metrics import f1_score\n",
        "from sklearn.model_selection import cross_val_score\n",
        "from sklearn.preprocessing import LabelEncoder\n",
        "from sklearn.model_selection import KFold\n",
        "import numpy as np\n",
        "from sklearn.model_selection import GridSearchCV\n",
        "from sklearn.model_selection import cross_val_predict"
      ]
    },
    {
      "cell_type": "markdown",
      "metadata": {
        "id": "1w2cbpTGE1cF"
      },
      "source": [
        "# Reading in Data"
      ]
    },
    {
      "cell_type": "code",
      "execution_count": 46,
      "metadata": {
        "id": "4nylB6biE4my"
      },
      "outputs": [],
      "source": [
        "train = pd.read_csv('train.csv', index_col = 'id')\n",
        "test = pd.read_csv('test.csv', index_col = 'id')"
      ]
    },
    {
      "cell_type": "markdown",
      "metadata": {
        "id": "_tB6BJBdFGdS"
      },
      "source": [
        "# Data Preprocessing"
      ]
    },
    {
      "cell_type": "code",
      "execution_count": 47,
      "metadata": {
        "id": "8QfRelgnFF_Y"
      },
      "outputs": [],
      "source": [
        "#checking for NA\n",
        "train.isnull().sum()\n",
        "test.isnull().sum()\n",
        "\n",
        "#checking for duplicates\n",
        "train.duplicated().sum()\n",
        "test.duplicated().sum()\n",
        "\n",
        "features = test.columns\n",
        "\n",
        "#convert categorical data to numeric\n",
        "if train['Target'].dtype == 'object':\n",
        "    le = LabelEncoder()\n",
        "    train['Target'] = le.fit_transform(train['Target'])\n",
        "\n",
        "#splitting into features and target\n",
        "X_train = train[features]\n",
        "y_train = train['Target']\n",
        "X_test = test[features]"
      ]
    },
    {
      "cell_type": "markdown",
      "metadata": {
        "id": "X9sO0WoGNxGY"
      },
      "source": [
        "# Data Visualization"
      ]
    },
    {
      "cell_type": "code",
      "execution_count": 47,
      "metadata": {
        "id": "mXj2gubON2SO"
      },
      "outputs": [],
      "source": []
    },
    {
      "cell_type": "markdown",
      "metadata": {
        "id": "vWPsbDZDOCmG"
      },
      "source": [
        "# Cross Validation"
      ]
    },
    {
      "cell_type": "code",
      "execution_count": 47,
      "metadata": {
        "id": "yGbT7phoOHDB"
      },
      "outputs": [],
      "source": []
    },
    {
      "cell_type": "markdown",
      "metadata": {
        "id": "7WXhCLe0FUTl"
      },
      "source": [
        "# Random Forest"
      ]
    },
    {
      "cell_type": "code",
      "execution_count": null,
      "metadata": {
        "id": "WgmDaRZ8FXYF"
      },
      "outputs": [],
      "source": [
        "\n",
        "#best parameters\n",
        "print(\"Best Parameters:\", grid_search.best_params_)\n",
        "#initialize Random Forest - play with inputs here\n",
        "#give more weight to the second class\n",
        "rf = RandomForestClassifier()\n",
        "\n",
        "# Fit the model on the training data\n",
        "rf.fit(X_train, y_train)\n",
        "\n",
        "# Feature importance\n",
        "feature_importance = pd.DataFrame({'Feature': X_train.columns, 'Importance': rf.feature_importances_})\n",
        "feature_importance.sort_values(by='Importance', ascending=False, inplace=True)\n",
        "\n",
        "#filtering out less important features\n",
        "features_mask = rf.feature_importances_ > 0.01\n",
        "X_train_reduced = X_train.loc[:, features_mask]\n",
        "X_test_reduced = X_test.loc[:, features_mask]\n",
        "\n",
        "#parameter grid\n",
        "param_grid = {\n",
        "    'n_estimators': [100, 200, 300],\n",
        "    'max_depth': [None, 10, 20],\n",
        "    'min_samples_split': [2, 5, 10],\n",
        "    'min_samples_leaf': [1, 2, 4]\n",
        "}\n",
        "\n",
        "grid_search = GridSearchCV(RandomForestClassifier(), param_grid, cv=5)\n",
        "grid_search.fit(X_train_reduced, y_train)\n",
        "\n",
        "best_params = grid_search.best_params_\n",
        "best_model = grid_search.best_estimator_\n",
        "\n",
        "# Fit the model on the reduced training data\n",
        "best_model.fit(X_train_reduced, y_train)\n",
        "\n",
        "# Predict on the test data\n",
        "y_pred = best_model.predict(X_test_reduced)\n",
        "\n",
        "#cross validation\n",
        "cv_scores = cross_val_score(best_model, X_train_reduced, y_train, cv=5)\n",
        "print(\"Cross-Validation Scores:\", cv_scores)\n",
        "print(\"Average Cross-Validation Score:\", cv_scores.mean())\n",
        "\n",
        "#cross validation confusion matrix\n",
        "train_pred = cross_val_predict(best_model, X_train_reduced, y_train, cv=5)\n",
        "cm = confusion_matrix(y_train, train_pred)\n",
        "print(\"Confusion Matrix:\")\n",
        "print(cm)\n",
        "\n",
        "#create submission file\n",
        "#convert target back from numbers into \"graduate\", \"dropout\", or \"enrolled\"\n",
        "labels = le.inverse_transform(y_pred)\n",
        "\n",
        "submission = pd.DataFrame({'id': test.index, 'Target': labels})\n",
        "submission.to_csv('submission.csv', index=False)\n"
      ]
    },
    {
      "cell_type": "markdown",
      "metadata": {
        "id": "VERQdD7wFXrY"
      },
      "source": [
        "# AdaBoost"
      ]
    },
    {
      "cell_type": "code",
      "execution_count": null,
      "metadata": {
        "id": "5mU9IUXBFeoB"
      },
      "outputs": [],
      "source": []
    },
    {
      "cell_type": "markdown",
      "metadata": {
        "id": "13eX6JfTFfE7"
      },
      "source": [
        "# Gradient Boosting"
      ]
    },
    {
      "cell_type": "code",
      "execution_count": null,
      "metadata": {
        "id": "No7ZWVl0FjcZ"
      },
      "outputs": [],
      "source": []
    },
    {
      "cell_type": "markdown",
      "metadata": {
        "id": "0ObA7CfeFjvz"
      },
      "source": [
        "# XGBoost"
      ]
    },
    {
      "cell_type": "code",
      "execution_count": null,
      "metadata": {
        "id": "egIuWLUNFpTm"
      },
      "outputs": [],
      "source": []
    },
    {
      "cell_type": "markdown",
      "metadata": {
        "id": "Gwr77KpyFxxt"
      },
      "source": [
        "## CatBoost"
      ]
    },
    {
      "cell_type": "code",
      "execution_count": null,
      "metadata": {
        "id": "4CznY408F00O"
      },
      "outputs": [],
      "source": []
    },
    {
      "cell_type": "markdown",
      "metadata": {
        "id": "cdqTXGjIF4gW"
      },
      "source": [
        "# LightGBM"
      ]
    },
    {
      "cell_type": "code",
      "execution_count": null,
      "metadata": {
        "id": "9G6igytiF_oF"
      },
      "outputs": [],
      "source": []
    }
  ],
  "metadata": {
    "accelerator": "GPU",
    "colab": {
      "collapsed_sections": [
        "X9sO0WoGNxGY",
        "vWPsbDZDOCmG"
      ],
      "gpuType": "T4",
      "provenance": [],
      "authorship_tag": "ABX9TyNFTq6DNazOFO1iy/LuCS+K",
      "include_colab_link": true
    },
    "kernelspec": {
      "display_name": "Python 3",
      "name": "python3"
    },
    "language_info": {
      "name": "python"
    }
  },
  "nbformat": 4,
  "nbformat_minor": 0
}