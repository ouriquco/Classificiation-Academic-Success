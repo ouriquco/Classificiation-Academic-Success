{
  "nbformat": 4,
  "nbformat_minor": 0,
  "metadata": {
    "colab": {
      "provenance": [],
      "authorship_tag": "ABX9TyOdaW9Kqq/jiW9Ydgw25YHn",
      "include_colab_link": true
    },
    "kernelspec": {
      "name": "python3",
      "display_name": "Python 3"
    },
    "language_info": {
      "name": "python"
    }
  },
  "cells": [
    {
      "cell_type": "markdown",
      "metadata": {
        "id": "view-in-github",
        "colab_type": "text"
      },
      "source": [
        "<a href=\"https://colab.research.google.com/github/ouriquco/Classificiation-Academic-Success/blob/summer_models/Academic_Success.ipynb\" target=\"_parent\"><img src=\"https://colab.research.google.com/assets/colab-badge.svg\" alt=\"Open In Colab\"/></a>"
      ]
    },
    {
      "cell_type": "markdown",
      "source": [
        "# Importing Libraries"
      ],
      "metadata": {
        "id": "240qmSEUEsLW"
      }
    },
    {
      "cell_type": "code",
      "execution_count": 2,
      "metadata": {
        "id": "0n95NPHSEj1B"
      },
      "outputs": [],
      "source": [
        "import pandas as pd\n",
        "from sklearn.preprocessing import LabelEncoder"
      ]
    },
    {
      "cell_type": "markdown",
      "source": [
        "# Reading in Data"
      ],
      "metadata": {
        "id": "1w2cbpTGE1cF"
      }
    },
    {
      "cell_type": "code",
      "source": [
        "train = pd.read_csv('train.csv', index_col = 'id')\n",
        "test = pd.read_csv('test.csv', index_col = 'id')"
      ],
      "metadata": {
        "id": "4nylB6biE4my"
      },
      "execution_count": 3,
      "outputs": []
    },
    {
      "cell_type": "markdown",
      "source": [
        "# Data Preprocessing"
      ],
      "metadata": {
        "id": "_tB6BJBdFGdS"
      }
    },
    {
      "cell_type": "code",
      "source": [
        "#checking for NA\n",
        "train.isnull().sum()\n",
        "test.isnull().sum()\n",
        "\n",
        "#checking for duplicates\n",
        "train.duplicated().sum()\n",
        "test.duplicated().sum()\n",
        "\n",
        "features = test.columns\n",
        "\n",
        "#convert categorical data to numeric\n",
        "if train['Target'].dtype == 'object':\n",
        "    le = LabelEncoder()\n",
        "    train['Target'] = le.fit_transform(train['Target'])\n",
        "\n",
        "#splitting into features and target\n",
        "X_train = train[features]\n",
        "y_train = train['Target']\n",
        "X_test = test[features]"
      ],
      "metadata": {
        "id": "8QfRelgnFF_Y"
      },
      "execution_count": 6,
      "outputs": []
    },
    {
      "cell_type": "markdown",
      "source": [
        "# Random Forest"
      ],
      "metadata": {
        "id": "7WXhCLe0FUTl"
      }
    },
    {
      "cell_type": "code",
      "source": [],
      "metadata": {
        "id": "WgmDaRZ8FXYF"
      },
      "execution_count": null,
      "outputs": []
    },
    {
      "cell_type": "markdown",
      "source": [
        "# AdaBoost"
      ],
      "metadata": {
        "id": "VERQdD7wFXrY"
      }
    },
    {
      "cell_type": "code",
      "source": [],
      "metadata": {
        "id": "5mU9IUXBFeoB"
      },
      "execution_count": null,
      "outputs": []
    },
    {
      "cell_type": "markdown",
      "source": [
        "# Gradient Boosting"
      ],
      "metadata": {
        "id": "13eX6JfTFfE7"
      }
    },
    {
      "cell_type": "code",
      "source": [],
      "metadata": {
        "id": "No7ZWVl0FjcZ"
      },
      "execution_count": null,
      "outputs": []
    },
    {
      "cell_type": "markdown",
      "source": [
        "# XGBoost"
      ],
      "metadata": {
        "id": "0ObA7CfeFjvz"
      }
    },
    {
      "cell_type": "code",
      "source": [],
      "metadata": {
        "id": "egIuWLUNFpTm"
      },
      "execution_count": null,
      "outputs": []
    },
    {
      "cell_type": "markdown",
      "source": [
        "## CatBoost"
      ],
      "metadata": {
        "id": "Gwr77KpyFxxt"
      }
    },
    {
      "cell_type": "code",
      "source": [],
      "metadata": {
        "id": "4CznY408F00O"
      },
      "execution_count": null,
      "outputs": []
    },
    {
      "cell_type": "markdown",
      "source": [
        "# LightGBM"
      ],
      "metadata": {
        "id": "cdqTXGjIF4gW"
      }
    },
    {
      "cell_type": "code",
      "source": [],
      "metadata": {
        "id": "9G6igytiF_oF"
      },
      "execution_count": null,
      "outputs": []
    }
  ]
}